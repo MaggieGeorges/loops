{
 "cells": [
  {
   "cell_type": "code",
   "execution_count": 11,
   "id": "11b17190",
   "metadata": {},
   "outputs": [
    {
     "data": {
      "text/html": [
       "<div>\n",
       "<style scoped>\n",
       "    .dataframe tbody tr th:only-of-type {\n",
       "        vertical-align: middle;\n",
       "    }\n",
       "\n",
       "    .dataframe tbody tr th {\n",
       "        vertical-align: top;\n",
       "    }\n",
       "\n",
       "    .dataframe thead th {\n",
       "        text-align: right;\n",
       "    }\n",
       "</style>\n",
       "<table border=\"1\" class=\"dataframe\">\n",
       "  <thead>\n",
       "    <tr style=\"text-align: right;\">\n",
       "      <th></th>\n",
       "      <th>ATL</th>\n",
       "      <th>2003/06</th>\n",
       "      <th>216</th>\n",
       "      <th>5843</th>\n",
       "      <th>27</th>\n",
       "    </tr>\n",
       "  </thead>\n",
       "  <tbody>\n",
       "    <tr>\n",
       "      <th>BOS</th>\n",
       "      <td>2003/06</td>\n",
       "      <td>138.0</td>\n",
       "      <td>1623.0</td>\n",
       "      <td>3.0</td>\n",
       "      <td>7875.0</td>\n",
       "    </tr>\n",
       "    <tr>\n",
       "      <th>BWI</th>\n",
       "      <td>2003/06</td>\n",
       "      <td>29.0</td>\n",
       "      <td>1245.0</td>\n",
       "      <td>15.0</td>\n",
       "      <td>6998.0</td>\n",
       "    </tr>\n",
       "    <tr>\n",
       "      <th>CLT</th>\n",
       "      <td>2003/06</td>\n",
       "      <td>73.0</td>\n",
       "      <td>1562.0</td>\n",
       "      <td>14.0</td>\n",
       "      <td>7021.0</td>\n",
       "    </tr>\n",
       "    <tr>\n",
       "      <th>DCA</th>\n",
       "      <td>2003/06</td>\n",
       "      <td>74.0</td>\n",
       "      <td>1100.0</td>\n",
       "      <td>18.0</td>\n",
       "      <td>5321.0</td>\n",
       "    </tr>\n",
       "    <tr>\n",
       "      <th>DEN</th>\n",
       "      <td>2003/06</td>\n",
       "      <td>34.0</td>\n",
       "      <td>1611.0</td>\n",
       "      <td>22.0</td>\n",
       "      <td>10024.0</td>\n",
       "    </tr>\n",
       "  </tbody>\n",
       "</table>\n",
       "</div>"
      ],
      "text/plain": [
       "         ATL  2003/06     216  5843       27\n",
       "BOS  2003/06    138.0  1623.0   3.0   7875.0\n",
       "BWI  2003/06     29.0  1245.0  15.0   6998.0\n",
       "CLT  2003/06     73.0  1562.0  14.0   7021.0\n",
       "DCA  2003/06     74.0  1100.0  18.0   5321.0\n",
       "DEN  2003/06     34.0  1611.0  22.0  10024.0"
      ]
     },
     "execution_count": 11,
     "metadata": {},
     "output_type": "execute_result"
    }
   ],
   "source": [
    "import pandas as pd\n",
    "import numpy as np\n",
    "import seaborn as sns\n",
    "data = pd.read_csv('airports-data.csv')\n",
    "data.head()"
   ]
  },
  {
   "cell_type": "code",
   "execution_count": 4,
   "id": "a7888bc5",
   "metadata": {},
   "outputs": [
    {
     "data": {
      "text/html": [
       "<div>\n",
       "<style scoped>\n",
       "    .dataframe tbody tr th:only-of-type {\n",
       "        vertical-align: middle;\n",
       "    }\n",
       "\n",
       "    .dataframe tbody tr th {\n",
       "        vertical-align: top;\n",
       "    }\n",
       "\n",
       "    .dataframe thead th {\n",
       "        text-align: right;\n",
       "    }\n",
       "</style>\n",
       "<table border=\"1\" class=\"dataframe\">\n",
       "  <thead>\n",
       "    <tr style=\"text-align: right;\">\n",
       "      <th></th>\n",
       "      <th>ATL</th>\n",
       "      <th>2003/06</th>\n",
       "      <th>216</th>\n",
       "      <th>5843</th>\n",
       "      <th>27</th>\n",
       "    </tr>\n",
       "  </thead>\n",
       "  <tbody>\n",
       "    <tr>\n",
       "      <th>SAN</th>\n",
       "      <td>2016/01</td>\n",
       "      <td>97.0</td>\n",
       "      <td>871.0</td>\n",
       "      <td>18.0</td>\n",
       "      <td>5030.0</td>\n",
       "    </tr>\n",
       "    <tr>\n",
       "      <th>SEA</th>\n",
       "      <td>2016/01</td>\n",
       "      <td>104.0</td>\n",
       "      <td>1274.0</td>\n",
       "      <td>31.0</td>\n",
       "      <td>8330.0</td>\n",
       "    </tr>\n",
       "    <tr>\n",
       "      <th>SFO</th>\n",
       "      <td>2016/01</td>\n",
       "      <td>449.0</td>\n",
       "      <td>3825.0</td>\n",
       "      <td>20.0</td>\n",
       "      <td>8912.0</td>\n",
       "    </tr>\n",
       "    <tr>\n",
       "      <th>SLC</th>\n",
       "      <td>2016/01</td>\n",
       "      <td>84.0</td>\n",
       "      <td>1175.0</td>\n",
       "      <td>14.0</td>\n",
       "      <td>7426.0</td>\n",
       "    </tr>\n",
       "    <tr>\n",
       "      <th>TPA</th>\n",
       "      <td>2016/01</td>\n",
       "      <td>146.0</td>\n",
       "      <td>1095.0</td>\n",
       "      <td>7.0</td>\n",
       "      <td>4748.0</td>\n",
       "    </tr>\n",
       "  </tbody>\n",
       "</table>\n",
       "</div>"
      ],
      "text/plain": [
       "         ATL  2003/06     216  5843      27\n",
       "SAN  2016/01     97.0   871.0  18.0  5030.0\n",
       "SEA  2016/01    104.0  1274.0  31.0  8330.0\n",
       "SFO  2016/01    449.0  3825.0  20.0  8912.0\n",
       "SLC  2016/01     84.0  1175.0  14.0  7426.0\n",
       "TPA  2016/01    146.0  1095.0   7.0  4748.0"
      ]
     },
     "execution_count": 4,
     "metadata": {},
     "output_type": "execute_result"
    }
   ],
   "source": [
    "data.tail()"
   ]
  },
  {
   "cell_type": "code",
   "execution_count": 7,
   "id": "6cf15408",
   "metadata": {},
   "outputs": [
    {
     "data": {
      "text/html": [
       "<div>\n",
       "<style scoped>\n",
       "    .dataframe tbody tr th:only-of-type {\n",
       "        vertical-align: middle;\n",
       "    }\n",
       "\n",
       "    .dataframe tbody tr th {\n",
       "        vertical-align: top;\n",
       "    }\n",
       "\n",
       "    .dataframe thead th {\n",
       "        text-align: right;\n",
       "    }\n",
       "</style>\n",
       "<table border=\"1\" class=\"dataframe\">\n",
       "  <thead>\n",
       "    <tr style=\"text-align: right;\">\n",
       "      <th></th>\n",
       "      <th>2003/06</th>\n",
       "      <th>216</th>\n",
       "      <th>5843</th>\n",
       "      <th>27</th>\n",
       "    </tr>\n",
       "  </thead>\n",
       "  <tbody>\n",
       "    <tr>\n",
       "      <th>count</th>\n",
       "      <td>4403.000000</td>\n",
       "      <td>4400.000000</td>\n",
       "      <td>4396.000000</td>\n",
       "      <td>4391.000000</td>\n",
       "    </tr>\n",
       "    <tr>\n",
       "      <th>mean</th>\n",
       "      <td>212.949353</td>\n",
       "      <td>2400.412045</td>\n",
       "      <td>27.904686</td>\n",
       "      <td>9239.537691</td>\n",
       "    </tr>\n",
       "    <tr>\n",
       "      <th>std</th>\n",
       "      <td>286.399753</td>\n",
       "      <td>1710.641204</td>\n",
       "      <td>36.389209</td>\n",
       "      <td>5328.812668</td>\n",
       "    </tr>\n",
       "    <tr>\n",
       "      <th>min</th>\n",
       "      <td>3.000000</td>\n",
       "      <td>283.000000</td>\n",
       "      <td>0.000000</td>\n",
       "      <td>2003.000000</td>\n",
       "    </tr>\n",
       "    <tr>\n",
       "      <th>25%</th>\n",
       "      <td>58.000000</td>\n",
       "      <td>1298.000000</td>\n",
       "      <td>8.000000</td>\n",
       "      <td>5706.000000</td>\n",
       "    </tr>\n",
       "    <tr>\n",
       "      <th>50%</th>\n",
       "      <td>123.000000</td>\n",
       "      <td>1897.500000</td>\n",
       "      <td>15.000000</td>\n",
       "      <td>7469.000000</td>\n",
       "    </tr>\n",
       "    <tr>\n",
       "      <th>75%</th>\n",
       "      <td>250.000000</td>\n",
       "      <td>2949.250000</td>\n",
       "      <td>33.000000</td>\n",
       "      <td>10943.000000</td>\n",
       "    </tr>\n",
       "    <tr>\n",
       "      <th>max</th>\n",
       "      <td>3680.000000</td>\n",
       "      <td>13699.000000</td>\n",
       "      <td>442.000000</td>\n",
       "      <td>31468.000000</td>\n",
       "    </tr>\n",
       "  </tbody>\n",
       "</table>\n",
       "</div>"
      ],
      "text/plain": [
       "           2003/06           216         5843            27\n",
       "count  4403.000000   4400.000000  4396.000000   4391.000000\n",
       "mean    212.949353   2400.412045    27.904686   9239.537691\n",
       "std     286.399753   1710.641204    36.389209   5328.812668\n",
       "min       3.000000    283.000000     0.000000   2003.000000\n",
       "25%      58.000000   1298.000000     8.000000   5706.000000\n",
       "50%     123.000000   1897.500000    15.000000   7469.000000\n",
       "75%     250.000000   2949.250000    33.000000  10943.000000\n",
       "max    3680.000000  13699.000000   442.000000  31468.000000"
      ]
     },
     "execution_count": 7,
     "metadata": {},
     "output_type": "execute_result"
    }
   ],
   "source": [
    "data.describe()"
   ]
  },
  {
   "cell_type": "code",
   "execution_count": 8,
   "id": "dcb8249a",
   "metadata": {},
   "outputs": [
    {
     "name": "stdout",
     "output_type": "stream",
     "text": [
      "<class 'pandas.core.frame.DataFrame'>\n",
      "Index: 4407 entries, BOS to TPA\n",
      "Data columns (total 5 columns):\n",
      " #   Column   Non-Null Count  Dtype  \n",
      "---  ------   --------------  -----  \n",
      " 0   ATL      4407 non-null   object \n",
      " 1   2003/06  4403 non-null   float64\n",
      " 2   216      4400 non-null   float64\n",
      " 3   5843     4396 non-null   float64\n",
      " 4   27       4391 non-null   float64\n",
      "dtypes: float64(4), object(1)\n",
      "memory usage: 206.6+ KB\n"
     ]
    }
   ],
   "source": [
    "data.info()"
   ]
  },
  {
   "cell_type": "code",
   "execution_count": 13,
   "id": "14e4175e",
   "metadata": {},
   "outputs": [
    {
     "data": {
      "text/plain": [
       "ATL         0\n",
       "2003/06     4\n",
       "216         7\n",
       "5843       11\n",
       "27         16\n",
       "dtype: int64"
      ]
     },
     "execution_count": 13,
     "metadata": {},
     "output_type": "execute_result"
    }
   ],
   "source": [
    "data.isnull().sum()"
   ]
  },
  {
   "cell_type": "code",
   "execution_count": 16,
   "id": "bd3e83f4",
   "metadata": {},
   "outputs": [
    {
     "data": {
      "text/plain": [
       "<AxesSubplot:>"
      ]
     },
     "execution_count": 16,
     "metadata": {},
     "output_type": "execute_result"
    },
    {
     "data": {
      "image/png": "[encoded data removed]",
      "text/plain": [
       "<Figure size 432x288 with 2 Axes>"
      ]
     },
     "metadata": {
      "needs_background": "light"
     },
     "output_type": "display_data"
    }
   ],
   "source": [
    "sns.heatmap(data.isna())"
   ]
  },
  {
   "cell_type": "code",
   "execution_count": null,
   "id": "f7c5bd15",
   "metadata": {},
   "outputs": [],
   "source": []
  }
 ],
 "metadata": {
  "kernelspec": {
   "display_name": "Python 3 (ipykernel)",
   "language": "python",
   "name": "python3"
  },
  "language_info": {
   "codemirror_mode": {
    "name": "ipython",
    "version": 3
   },
   "file_extension": ".py",
   "mimetype": "text/x-python",
   "name": "python",
   "nbconvert_exporter": "python",
   "pygments_lexer": "ipython3",
   "version": "3.9.12"
  }
 },
 "nbformat": 4,
 "nbformat_minor": 5
}
